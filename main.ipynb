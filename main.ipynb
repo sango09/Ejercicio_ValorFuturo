{
 "cells": [
  {
   "cell_type": "markdown",
   "metadata": {},
   "source": [
    "***\n",
    "# Test Value Future\n",
    "***\n",
    "$VF = VP(1 + i) ^ n$\n",
    "\n",
    "***\n",
    "$VP = \\frac{VF}{(1+i)^n}$\n",
    "\n",
    "***\n",
    "$n = \\frac{\\log({\\frac{VF}{VP}})}{\\log({1+i})} $\n",
    "\n",
    "***\n",
    "$i = \\sqrt[n]{\\frac{VF}{VP}} -1  \\to \\frac{VF}{VP}^\\frac{1}{n} - 1$\n"
   ]
  }
 ],
 "metadata": {
  "kernelspec": {
   "display_name": "Python 3 (ipykernel)",
   "language": "python",
   "name": "python3"
  },
  "language_info": {
   "codemirror_mode": {
    "name": "ipython",
    "version": 3
   },
   "file_extension": ".py",
   "mimetype": "text/x-python",
   "name": "python",
   "nbconvert_exporter": "python",
   "pygments_lexer": "ipython3",
   "version": "3.8.12"
  }
 },
 "nbformat": 4,
 "nbformat_minor": 1
}